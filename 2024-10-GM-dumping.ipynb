{
 "cells": [
  {
   "cell_type": "markdown",
   "metadata": {},
   "source": [
    "# Roast my code: Data dumping in AiiDA\n",
    "\n",
    "\n",
    "<details>\n",
    "  <summary>A little fun fact about:</summary>\n",
    "\n",
    "  ![dogfood](/home/geiger_j/aiida_projects/verdi-profile-dump/2024-10-10-GM-dumping/figs/dogfood.png)\n",
    "\n",
    "  It's got 60g / 100g of protein!!! 💪\n",
    "\n",
    "  That's why today's GM will be all about dogfooding 🐶\n",
    "\n",
    "</details>\n",
    "\n",
    "<details>\n",
    "  <summary>So let's get started!</summary>\n",
    "\n",
    "![pr-conversation](/home/geiger_j/aiida_projects/verdi-profile-dump/2024-10-10-GM-dumping/figs/pr-conversation.png)\n"
   ]
  },
  {
   "cell_type": "markdown",
   "metadata": {
    "vscode": {
     "languageId": "plaintext"
    }
   },
   "source": [
    "## Dumping collection data\n",
    "\n",
    "Let's first run with the defaults and see where we get:\n",
    "\n",
    "```shell\n",
    "verdi storage dump --path /home/geiger_j/aiida_projects/verdi-profile-dump/dev-dumps/storage-mirror/ -o\n",
    "```\n",
    "\n",
    "Next, let's check all the CLI options and their default values:\n",
    "\n",
    "```shell\n",
    "verdi storage dump -h\n",
    "```\n",
    "\n",
    "Some things to consider:\n",
    "- `--path`: This is the global parent path for dumping. All different collections/entities will be dumped into specific\n",
    "  subdirectories based on the locally modified `output_path` variable.\n",
    "- `--overwrite`: Currently only global overwrite\n",
    "   - Add `--incremental` option which is true by default, to gradually update the directory\n",
    "- `organize_by_groups`:\n",
    "    - If not set, only top-level `calculations`, `workflows`, and `data` are created in the dumping directory\n",
    "      Organization in groups will be ignored in this scheme.\n",
    "    - If set, entities that are in a certain group `group` will be put in this directory in a nested structure based on\n",
    "      the group's `type_string` and label\n",
    "- `--only-top-level-workflows`: With this diabled, also sub-workchains will be dumped into their respective directories.\n",
    "  Otherwise only top-level workchains.\n",
    "- `--dump-processes/--dump-data`: Dump `ProcessNode`s and `orm.Data` nodes. `--dump-processes` is `True`, while\n",
    "  `--dump-data` is `False` by default, as `orm.Data` nodes are implicitly contained in the dumped process data. If it is\n",
    "  `True`, also a structured dedicated `Data` directory is created. If specified, either one of `--also-raw` or\n",
    "  `--also-rich` must also be set.\n",
    "- `--calculations-hidden/--data-hidden`: True by default. If set, dump `CalcJob` data and `orm.Data` entities in a\n",
    "  hidden directory using their UUIDs and symlink from the structured output directories.\n",
    "- `--include-inputs`, `--include-outputs`, `--include-attriutes`, `--include-extras`: These are options from the\n",
    "  `ProcessDumper`, to also dump linked input nodes and output nodes for each `CalcJob`, as well as if the `ProcessNode`\n",
    "  attributes and extras should be dumped to the `.aiida_node_metadata.yaml` file in every `ProcessNode`s directory.\n",
    "- `--flat`: This is also from the `ProcessDumper`, and, if activated, removes the `inputs`, `outputs`, `node_inputs` and\n",
    "  `node_outputs` subdirectories for each `CalcJob`s directory\n",
    "- `--dump-config-file`: Specify all settings for the dumping via a config file in YAML format:\n",
    "  `verdi storage dump --config /home/geiger_j/aiida_projects/verdi-profile-dump/git-repos/aiida-core.worktrees/feature/verdi-profile-dump/src/aiida/tools/dumping/test-config-file.yaml`"
   ]
  },
  {
   "cell_type": "markdown",
   "metadata": {
    "vscode": {
     "languageId": "plaintext"
    }
   },
   "source": [
    "## `raw` and `rich` data dumping\n",
    "\n",
    "- `raw` data dumping just dumps the `attributes` of every `orm.Data` node\n",
    "  - This is currently hard-coded such tat the resulting YAML files are always contained in the associated `CalcJob`\n",
    "    directories, as I don't see it very valuable to have individual structured `data` directories that contain the\n",
    "    `Node` attributes -> low-priority TODO"
   ]
  },
  {
   "cell_type": "markdown",
   "metadata": {
    "vscode": {
     "languageId": "plaintext"
    }
   },
   "source": [
    "## Dumping processes\n",
    "\n",
    "### Some examples\n",
    "\n",
    "```shell\n",
    "verdi process dump --also-raw --also-rich --include-outputs -o 914\n",
    "```\n",
    "\n",
    "#### Directories of the (almost) entire `PwBandsWorkChain`:\n",
    "\n",
    "```shell\n",
    "❯ /bin/tree -d -L 4 ./PwBandsWorkChain-914/\n",
    "```\n",
    "\n",
    "#### The first `PwCalculation`:\n",
    "\n",
    "```shell\n",
    "❯ /bin/tree ./PwBandsWorkChain-914/01-relax-PwRelaxWorkChain/01-iteration_01-PwBaseWorkChain/\n",
    "```\n",
    "\n",
    "#### `create_kpoints_from_distance`:\n",
    "\n",
    "```shell\n",
    "❯ /bin/tree ./PwBandsWorkChain-914/01-relax-PwRelaxWorkChain/01-iteration_01-PwBaseWorkChain/01-create_kpo\n",
    "ints_from_distance/\n",
    "```\n",
    "\n",
    "#### `seekpath_structure_analysis`:\n",
    "\n",
    "```shell\n",
    "❯ /bin/tree ./PwBandsWorkChain-914/02-seekpath-seekpath_structure_analysis/\n",
    "```\n",
    "\n",
    "#### The actual band structure calculation:\n",
    "\n",
    "```shell\n",
    "❯ /bin/tree ./PwBandsWorkChain-914/04-bands-PwBaseWorkChain/01-iteration_01-PwCalculation/\n",
    "```\n"
   ]
  },
  {
   "cell_type": "markdown",
   "metadata": {},
   "source": [
    "### Dumping of remote data\n"
   ]
  },
  {
   "cell_type": "markdown",
   "metadata": {},
   "source": [
    "## More on `raw` and `rich` data dumping\n"
   ]
  },
  {
   "cell_type": "markdown",
   "metadata": {},
   "source": [
    "### Customization for `rich` dumping\n"
   ]
  },
  {
   "cell_type": "markdown",
   "metadata": {},
   "source": [
    "#### Via the CLI\n"
   ]
  },
  {
   "cell_type": "markdown",
   "metadata": {},
   "source": [
    "#### Via a config file\n"
   ]
  },
  {
   "cell_type": "markdown",
   "metadata": {},
   "source": [
    "### Of groups\n"
   ]
  },
  {
   "cell_type": "markdown",
   "metadata": {},
   "source": [
    "### Of the entire `storage`\n"
   ]
  },
  {
   "cell_type": "markdown",
   "metadata": {
    "vscode": {
     "languageId": "plaintext"
    }
   },
   "source": [
    "## Known TODOs\n",
    "\n",
    "### P1\n",
    "\n",
    "- [ ] `incremental` option to properly gradually build up a directory, as more data is created for a profile\n",
    "- [ ] Allow mixing of config file and command-line options? Should additional command line options overwrite settings in\n",
    "config file?\n",
    "    - Or, just ignore additional command-line options, and use the defaults, if values are not set in the file\n",
    "\n",
    "### P2\n",
    "\n",
    "- [ ] Allow selecting only certain entities, either via their PKs or by their types (e.g. orm.StructureData)\n",
    "- [ ] "
   ]
  },
  {
   "cell_type": "markdown",
   "metadata": {},
   "source": [
    "## How everything plays together\n"
   ]
  },
  {
   "cell_type": "markdown",
   "metadata": {},
   "source": [
    "## Code design: The different Dumpers\n",
    "\n",
    "![excuse-me-sir-inheritance](/home/geiger_j/aiida_projects/verdi-profile-dump/2024-10-10-GM-dumping/figs/excuse-me-sir-inheritance.png)\n"
   ]
  },
  {
   "cell_type": "markdown",
   "metadata": {},
   "source": []
  }
 ],
 "metadata": {
  "language_info": {
   "name": "python"
  }
 },
 "nbformat": 4,
 "nbformat_minor": 2
}
